{
 "cells": [
  {
   "cell_type": "code",
   "execution_count": null,
   "id": "68385fd5-5b14-4def-a7e8-49ee4b389c08",
   "metadata": {},
   "outputs": [],
   "source": [
    "import torch\n",
    "import torch.nn as nn\n",
    "import torch.nn.functional as F\n",
    "import torchvision\n",
    "import torchvision.datasets as datasets\n",
    "from torchvision import transforms\n",
    "import torch.optim as optim \n",
    "\n",
    "transform_list = transforms.Compose([ transforms.ToTensor(), transforms.Normalize(mean=[0.0], std=[1.0]) ] )\n",
    "train_set = datasets.MNIST(root='./data', train=True, download=True,  transform=transform_list)\n",
    "test_set = datasets.MNIST(root='./data', train=False, download=True,  transform=transform_list)\n",
    "device = torch.device(\"cuda:0\") if torch.cuda.is_available() else torch.device(\"cpu\")"
   ]
  },
  {
   "cell_type": "code",
   "execution_count": 2,
   "id": "48dc1689-1774-4cc8-90fe-54b246c28b75",
   "metadata": {},
   "outputs": [],
   "source": [
    "class CNN(nn.Module):\n",
    "    def __init__(self):\n",
    "        super().__init__()\n",
    "        self.conv1 = nn.Conv2d(in_channels=1, out_channels=32, kernel_size=3, padding=1)\n",
    "        self.conv2 = nn.Conv2d(in_channels=32, out_channels=64, kernel_size=3, padding=1)\n",
    "        self.pool = nn.MaxPool2d(2, 2)\n",
    "        self.fc1 = nn.Linear(64 * 14 * 14, 512)\n",
    "        self.fc2 = nn.Linear(512, 10)\n",
    "\n",
    "    def forward(self, x):\n",
    "        x = self.conv1(x)\n",
    "        x = torch.relu(x)\n",
    "        x = self.conv2(x)\n",
    "        x = torch.relu(x)\n",
    "        x = self.pool(x)\n",
    "        x = x.view(-1, 64 * 14 * 14)\n",
    "        x = self.fc1(x)\n",
    "        x = torch.relu(x)\n",
    "        x = self.fc2(x)\n",
    "        return x"
   ]
  },
  {
   "cell_type": "code",
   "execution_count": 3,
   "id": "4b4aa056-052a-47fa-9900-72dc27608914",
   "metadata": {},
   "outputs": [
    {
     "name": "stdout",
     "output_type": "stream",
     "text": [
      "Epoch: 1. Loss: 0.12528342008590698\n",
      "Epoch: 2. Loss: 0.039659515023231506\n",
      "Epoch: 3. Loss: 0.026629548519849777\n",
      "Epoch: 4. Loss: 0.05391715466976166\n",
      "Epoch: 5. Loss: 0.056548118591308594\n",
      "Epoch: 6. Loss: 0.1684257686138153\n",
      "Epoch: 7. Loss: 0.10250838100910187\n",
      "Epoch: 8. Loss: 0.00401377584785223\n",
      "Epoch: 9. Loss: 0.015404571779072285\n",
      "Epoch: 10. Loss: 0.008531380444765091\n",
      "Epoch: 11. Loss: 0.0016952321166172624\n",
      "Epoch: 12. Loss: 0.006303559057414532\n",
      "Epoch: 13. Loss: 0.014649441465735435\n",
      "Epoch: 14. Loss: 0.018926307559013367\n",
      "Epoch: 15. Loss: 0.06067979335784912\n",
      "Epoch: 16. Loss: 0.021851198747754097\n",
      "Epoch: 17. Loss: 0.09783076494932175\n",
      "Epoch: 18. Loss: 0.0050385454669594765\n",
      "Epoch: 19. Loss: 0.009141759015619755\n",
      "Epoch: 20. Loss: 0.004731845110654831\n",
      "Epoch: 21. Loss: 0.001507838605903089\n",
      "Epoch: 22. Loss: 0.004757629707455635\n",
      "Epoch: 23. Loss: 0.0012076770653948188\n",
      "Epoch: 24. Loss: 0.0029919238295406103\n",
      "Epoch: 25. Loss: 0.0007688119658268988\n",
      "Epoch: 26. Loss: 0.0012865146854892373\n",
      "Epoch: 27. Loss: 0.004394741728901863\n",
      "Epoch: 28. Loss: 0.0001791008107829839\n",
      "Epoch: 29. Loss: 0.001001190859824419\n",
      "Epoch: 30. Loss: 0.0014277599984779954\n"
     ]
    }
   ],
   "source": [
    "train_loader = torch.utils.data.DataLoader(train_set, batch_size=32, shuffle=True)\n",
    "test_loader = torch.utils.data.DataLoader(test_set, batch_size=32, shuffle=True)\n",
    "loss_criterion = nn.CrossEntropyLoss()\n",
    "model = CNN().to(device)\n",
    "optimizer = optim.SGD(model.parameters(), lr=0.001, momentum=0.9)\n",
    "num_epochs = 30\n",
    "\n",
    "for epoch in range(num_epochs):\n",
    "    for inputs, labels in train_loader:\n",
    "        inputs, labels = inputs.to(device, non_blocking=True), labels.to(device, non_blocking=True)\n",
    "        outputs = model(inputs)\n",
    "        optimizer.zero_grad()\n",
    "        loss = loss_criterion(outputs, labels)\n",
    "        loss.backward()\n",
    "        optimizer.step()\n",
    "    print(f\"Epoch: {epoch + 1}. Loss: {loss.item()}\")"
   ]
  },
  {
   "cell_type": "code",
   "execution_count": 4,
   "id": "4111ddf8-5fd9-430d-a207-c894a0f0df4f",
   "metadata": {},
   "outputs": [
    {
     "name": "stdout",
     "output_type": "stream",
     "text": [
      "Test accuracy: 98.64%\n"
     ]
    }
   ],
   "source": [
    "model.eval()\n",
    "total = 0\n",
    "correct = 0\n",
    "\n",
    "with torch.no_grad():\n",
    "    for inputs, labels in test_loader:\n",
    "        inputs, labels = inputs.to(device), labels.to(device)\n",
    "        outputs = model(inputs)\n",
    "        _, predicted = torch.max(outputs.data, 1)\n",
    "        total += labels.size(0)\n",
    "        correct += (predicted == labels).sum().item()\n",
    "\n",
    "acc =  correct/ total * 100\n",
    "print(f\"Test accuracy: {acc:.2f}%\")"
   ]
  }
 ],
 "metadata": {
  "kernelspec": {
   "display_name": "Python 3 (ipykernel)",
   "language": "python",
   "name": "python3"
  },
  "language_info": {
   "codemirror_mode": {
    "name": "ipython",
    "version": 3
   },
   "file_extension": ".py",
   "mimetype": "text/x-python",
   "name": "python",
   "nbconvert_exporter": "python",
   "pygments_lexer": "ipython3",
   "version": "3.11.8"
  }
 },
 "nbformat": 4,
 "nbformat_minor": 5
}
